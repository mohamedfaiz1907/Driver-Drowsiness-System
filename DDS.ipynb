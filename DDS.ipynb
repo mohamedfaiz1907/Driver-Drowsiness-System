{
 "cells": [
  {
   "cell_type": "code",
   "execution_count": 1,
   "id": "b538f18a",
   "metadata": {},
   "outputs": [],
   "source": [
    "from scipy.spatial import distance"
   ]
  },
  {
   "cell_type": "code",
   "execution_count": 3,
   "id": "e9052d4f",
   "metadata": {},
   "outputs": [
    {
     "name": "stdout",
     "output_type": "stream",
     "text": [
      "Collecting imutils\n",
      "  Downloading imutils-0.5.4.tar.gz (17 kB)\n",
      "Building wheels for collected packages: imutils\n",
      "  Building wheel for imutils (setup.py): started\n",
      "  Building wheel for imutils (setup.py): finished with status 'done'\n",
      "  Created wheel for imutils: filename=imutils-0.5.4-py3-none-any.whl size=25872 sha256=f4c5f6aab900da38e467431db92908bbbd990a6badd5faeeebd45cf203c99131\n",
      "  Stored in directory: c:\\users\\hp\\appdata\\local\\pip\\cache\\wheels\\4b\\a5\\2d\\4a070a801d3a3d93f033d3ee9728f470f514826e89952df3ea\n",
      "Successfully built imutils\n",
      "Installing collected packages: imutils\n",
      "Successfully installed imutils-0.5.4\n"
     ]
    }
   ],
   "source": [
    "!pip install imutils"
   ]
  },
  {
   "cell_type": "code",
   "execution_count": 4,
   "id": "cf4219c2",
   "metadata": {},
   "outputs": [],
   "source": [
    "import numpy as np"
   ]
  },
  {
   "cell_type": "code",
   "execution_count": 5,
   "id": "ca252940",
   "metadata": {},
   "outputs": [
    {
     "name": "stdout",
     "output_type": "stream",
     "text": [
      "pygame 2.6.1 (SDL 2.28.4, Python 3.9.12)\n",
      "Hello from the pygame community. https://www.pygame.org/contribute.html\n"
     ]
    }
   ],
   "source": [
    "import pygame"
   ]
  },
  {
   "cell_type": "code",
   "execution_count": 6,
   "id": "574614de",
   "metadata": {},
   "outputs": [],
   "source": [
    "import time"
   ]
  },
  {
   "cell_type": "code",
   "execution_count": 7,
   "id": "e9f2c067",
   "metadata": {},
   "outputs": [],
   "source": [
    "import cv2"
   ]
  },
  {
   "cell_type": "code",
   "execution_count": 8,
   "id": "4bd6784a",
   "metadata": {},
   "outputs": [
    {
     "name": "stdout",
     "output_type": "stream",
     "text": [
      "Microsoft Windows [Version 10.0.22631.4460]\n",
      "(c) Microsoft Corporation. All rights reserved.\n",
      "\n",
      "C:\\Users\\HP\\Desktop\\Machine Learning>pip install cmake\n",
      "Collecting cmake\n",
      "  Downloading cmake-3.31.2-py3-none-win_amd64.whl (36.5 MB)\n",
      "Installing collected packages: cmake\n",
      "Successfully installed cmake-3.31.2\n",
      "\n",
      "C:\\Users\\HP\\Desktop\\Machine Learning>"
     ]
    }
   ],
   "source": [
    "%%cmd\n",
    "pip install cmake"
   ]
  },
  {
   "cell_type": "code",
   "execution_count": 9,
   "id": "290b3dce",
   "metadata": {},
   "outputs": [
    {
     "name": "stdout",
     "output_type": "stream",
     "text": [
      "Microsoft Windows [Version 10.0.22631.4460]\n",
      "(c) Microsoft Corporation. All rights reserved.\n",
      "\n",
      "C:\\Users\\HP\\Desktop\\Machine Learning>python --version\n",
      "Python 3.9.12\n",
      "\n",
      "C:\\Users\\HP\\Desktop\\Machine Learning>"
     ]
    }
   ],
   "source": [
    "%%cmd\n",
    "python --version"
   ]
  },
  {
   "cell_type": "code",
   "execution_count": 11,
   "id": "ad15c256",
   "metadata": {},
   "outputs": [
    {
     "name": "stdout",
     "output_type": "stream",
     "text": [
      "Microsoft Windows [Version 10.0.22631.4460]\n",
      "(c) Microsoft Corporation. All rights reserved.\n",
      "\n",
      "C:\\Users\\HP\\Desktop\\Machine Learning>pip install \"C:\\Users\\HP\\Desktop\\Machine Learning\\dlib-for-python-3.9\\dlib-19.22.99-cp39-cp39-win_amd64.whl\"\n",
      "Processing c:\\users\\hp\\desktop\\machine learning\\dlib-for-python-3.9\\dlib-19.22.99-cp39-cp39-win_amd64.whl\n",
      "Installing collected packages: dlib\n",
      "Successfully installed dlib-19.22.99\n",
      "\n",
      "C:\\Users\\HP\\Desktop\\Machine Learning>"
     ]
    }
   ],
   "source": [
    "%%cmd\n",
    "pip install \"C:\\Users\\HP\\Desktop\\Machine Learning\\dlib-for-python-3.9\\dlib-19.22.99-cp39-cp39-win_amd64.whl\""
   ]
  },
  {
   "cell_type": "code",
   "execution_count": 12,
   "id": "f6e98146",
   "metadata": {},
   "outputs": [
    {
     "name": "stdout",
     "output_type": "stream",
     "text": [
      "Microsoft Windows [Version 10.0.22631.4460]\n",
      "(c) Microsoft Corporation. All rights reserved.\n",
      "\n",
      "C:\\Users\\HP\\Desktop\\Machine Learning>pip install face-recognition\n",
      "Collecting face-recognition\n",
      "  Downloading face_recognition-1.3.0-py2.py3-none-any.whl (15 kB)\n",
      "Requirement already satisfied: Pillow in c:\\users\\hp\\anaconda3\\lib\\site-packages (from face-recognition) (9.0.1)\n",
      "Requirement already satisfied: dlib>=19.7 in c:\\users\\hp\\anaconda3\\lib\\site-packages (from face-recognition) (19.22.99)\n",
      "Requirement already satisfied: numpy in c:\\users\\hp\\anaconda3\\lib\\site-packages (from face-recognition) (1.21.5)\n",
      "Requirement already satisfied: Click>=6.0 in c:\\users\\hp\\anaconda3\\lib\\site-packages (from face-recognition) (8.0.4)\n",
      "Collecting face-recognition-models>=0.3.0\n",
      "  Downloading face_recognition_models-0.3.0.tar.gz (100.1 MB)\n",
      "Requirement already satisfied: colorama in c:\\users\\hp\\anaconda3\\lib\\site-packages (from Click>=6.0->face-recognition) (0.4.4)\n",
      "Building wheels for collected packages: face-recognition-models\n",
      "  Building wheel for face-recognition-models (setup.py): started\n",
      "  Building wheel for face-recognition-models (setup.py): finished with status 'done'\n",
      "  Created wheel for face-recognition-models: filename=face_recognition_models-0.3.0-py2.py3-none-any.whl size=100566186 sha256=9403cb2a266caf0b9aca3ff98731eba838b50fc1aa45328239770792a1607dd6\n",
      "  Stored in directory: c:\\users\\hp\\appdata\\local\\pip\\cache\\wheels\\22\\a8\\60\\4a2aeb763d63f50190f4c4e07069a22245347eeafdb3a67551\n",
      "Successfully built face-recognition-models\n",
      "Installing collected packages: face-recognition-models, face-recognition\n",
      "Successfully installed face-recognition-1.3.0 face-recognition-models-0.3.0\n",
      "\n",
      "C:\\Users\\HP\\Desktop\\Machine Learning>"
     ]
    }
   ],
   "source": [
    "%%cmd\n",
    "pip install face-recognition"
   ]
  },
  {
   "cell_type": "code",
   "execution_count": 13,
   "id": "285cc8bc",
   "metadata": {},
   "outputs": [],
   "source": [
    "import dlib"
   ]
  },
  {
   "cell_type": "code",
   "execution_count": 15,
   "id": "3dd36d60",
   "metadata": {},
   "outputs": [
    {
     "name": "stdout",
     "output_type": "stream",
     "text": [
      "Collecting pyserial\n",
      "  Downloading pyserial-3.5-py2.py3-none-any.whl (90 kB)\n",
      "Installing collected packages: pyserial\n",
      "Successfully installed pyserial-3.5\n"
     ]
    }
   ],
   "source": [
    "! pip install pyserial"
   ]
  },
  {
   "cell_type": "code",
   "execution_count": 16,
   "id": "204eeda9",
   "metadata": {},
   "outputs": [],
   "source": [
    "import serial"
   ]
  },
  {
   "cell_type": "code",
   "execution_count": 17,
   "id": "229325c9",
   "metadata": {},
   "outputs": [
    {
     "ename": "SerialException",
     "evalue": "could not open port '/dev/ttyACM0': FileNotFoundError(2, 'The system cannot find the path specified.', None, 3)",
     "output_type": "error",
     "traceback": [
      "\u001b[1;31m---------------------------------------------------------------------------\u001b[0m",
      "\u001b[1;31mSerialException\u001b[0m                           Traceback (most recent call last)",
      "Input \u001b[1;32mIn [17]\u001b[0m, in \u001b[0;36m<cell line: 1>\u001b[1;34m()\u001b[0m\n\u001b[1;32m----> 1\u001b[0m arduinoData \u001b[38;5;241m=\u001b[39m \u001b[43mserial\u001b[49m\u001b[38;5;241;43m.\u001b[39;49m\u001b[43mSerial\u001b[49m\u001b[43m(\u001b[49m\u001b[38;5;124;43m'\u001b[39;49m\u001b[38;5;124;43m/dev/ttyACM0\u001b[39;49m\u001b[38;5;124;43m'\u001b[39;49m\u001b[43m,\u001b[49m\u001b[38;5;241;43m9600\u001b[39;49m\u001b[43m)\u001b[49m \n\u001b[0;32m      2\u001b[0m \u001b[38;5;28;01mdef\u001b[39;00m \u001b[38;5;21mled_on\u001b[39m(): \n\u001b[0;32m      3\u001b[0m     arduinoData\u001b[38;5;241m.\u001b[39mwrite(\u001b[38;5;124mb\u001b[39m\u001b[38;5;124m'\u001b[39m\u001b[38;5;124m1\u001b[39m\u001b[38;5;124m'\u001b[39m) \n",
      "File \u001b[1;32m~\\anaconda3\\lib\\site-packages\\serial\\serialwin32.py:33\u001b[0m, in \u001b[0;36mSerial.__init__\u001b[1;34m(self, *args, **kwargs)\u001b[0m\n\u001b[0;32m     31\u001b[0m \u001b[38;5;28mself\u001b[39m\u001b[38;5;241m.\u001b[39m_overlapped_read \u001b[38;5;241m=\u001b[39m \u001b[38;5;28;01mNone\u001b[39;00m\n\u001b[0;32m     32\u001b[0m \u001b[38;5;28mself\u001b[39m\u001b[38;5;241m.\u001b[39m_overlapped_write \u001b[38;5;241m=\u001b[39m \u001b[38;5;28;01mNone\u001b[39;00m\n\u001b[1;32m---> 33\u001b[0m \u001b[38;5;28msuper\u001b[39m(Serial, \u001b[38;5;28mself\u001b[39m)\u001b[38;5;241m.\u001b[39m\u001b[38;5;21m__init__\u001b[39m(\u001b[38;5;241m*\u001b[39margs, \u001b[38;5;241m*\u001b[39m\u001b[38;5;241m*\u001b[39mkwargs)\n",
      "File \u001b[1;32m~\\anaconda3\\lib\\site-packages\\serial\\serialutil.py:244\u001b[0m, in \u001b[0;36mSerialBase.__init__\u001b[1;34m(self, port, baudrate, bytesize, parity, stopbits, timeout, xonxoff, rtscts, write_timeout, dsrdtr, inter_byte_timeout, exclusive, **kwargs)\u001b[0m\n\u001b[0;32m    241\u001b[0m     \u001b[38;5;28;01mraise\u001b[39;00m \u001b[38;5;167;01mValueError\u001b[39;00m(\u001b[38;5;124m'\u001b[39m\u001b[38;5;124munexpected keyword arguments: \u001b[39m\u001b[38;5;132;01m{!r}\u001b[39;00m\u001b[38;5;124m'\u001b[39m\u001b[38;5;241m.\u001b[39mformat(kwargs))\n\u001b[0;32m    243\u001b[0m \u001b[38;5;28;01mif\u001b[39;00m port \u001b[38;5;129;01mis\u001b[39;00m \u001b[38;5;129;01mnot\u001b[39;00m \u001b[38;5;28;01mNone\u001b[39;00m:\n\u001b[1;32m--> 244\u001b[0m     \u001b[38;5;28;43mself\u001b[39;49m\u001b[38;5;241;43m.\u001b[39;49m\u001b[43mopen\u001b[49m\u001b[43m(\u001b[49m\u001b[43m)\u001b[49m\n",
      "File \u001b[1;32m~\\anaconda3\\lib\\site-packages\\serial\\serialwin32.py:64\u001b[0m, in \u001b[0;36mSerial.open\u001b[1;34m(self)\u001b[0m\n\u001b[0;32m     62\u001b[0m \u001b[38;5;28;01mif\u001b[39;00m \u001b[38;5;28mself\u001b[39m\u001b[38;5;241m.\u001b[39m_port_handle \u001b[38;5;241m==\u001b[39m win32\u001b[38;5;241m.\u001b[39mINVALID_HANDLE_VALUE:\n\u001b[0;32m     63\u001b[0m     \u001b[38;5;28mself\u001b[39m\u001b[38;5;241m.\u001b[39m_port_handle \u001b[38;5;241m=\u001b[39m \u001b[38;5;28;01mNone\u001b[39;00m    \u001b[38;5;66;03m# 'cause __del__ is called anyway\u001b[39;00m\n\u001b[1;32m---> 64\u001b[0m     \u001b[38;5;28;01mraise\u001b[39;00m SerialException(\u001b[38;5;124m\"\u001b[39m\u001b[38;5;124mcould not open port \u001b[39m\u001b[38;5;132;01m{!r}\u001b[39;00m\u001b[38;5;124m: \u001b[39m\u001b[38;5;132;01m{!r}\u001b[39;00m\u001b[38;5;124m\"\u001b[39m\u001b[38;5;241m.\u001b[39mformat(\u001b[38;5;28mself\u001b[39m\u001b[38;5;241m.\u001b[39mportstr, ctypes\u001b[38;5;241m.\u001b[39mWinError()))\n\u001b[0;32m     66\u001b[0m \u001b[38;5;28;01mtry\u001b[39;00m:\n\u001b[0;32m     67\u001b[0m     \u001b[38;5;28mself\u001b[39m\u001b[38;5;241m.\u001b[39m_overlapped_read \u001b[38;5;241m=\u001b[39m win32\u001b[38;5;241m.\u001b[39mOVERLAPPED()\n",
      "\u001b[1;31mSerialException\u001b[0m: could not open port '/dev/ttyACM0': FileNotFoundError(2, 'The system cannot find the path specified.', None, 3)"
     ]
    }
   ],
   "source": [
    "#Initialize Arduino\n",
    "arduinoData = serial.Serial('/dev/ttyACM0',9600) \n",
    "def led_on(): \n",
    "    arduinoData.write(b'1') \n",
    "13 \n",
    "def led_off(): \n",
    "    arduinoData.write(b'0')"
   ]
  },
  {
   "cell_type": "code",
   "execution_count": 20,
   "id": "972e83c4",
   "metadata": {},
   "outputs": [],
   "source": [
    "#Initialize Pygame and load music \n",
    "pygame.mixer.init() \n",
    "pygame.mixer.music.load('audio/alert.wav')"
   ]
  },
  {
   "cell_type": "code",
   "execution_count": 21,
   "id": "31701fd7",
   "metadata": {},
   "outputs": [],
   "source": [
    "#Minimum threshold of eye aspect ratio below which alarm is triggerd \n",
    "EYE_ASPECT_RATIO_THRESHOLD = 0.3 "
   ]
  },
  {
   "cell_type": "code",
   "execution_count": 22,
   "id": "22f24f55",
   "metadata": {},
   "outputs": [],
   "source": [
    "#Minimum consecutive frames for which eye ratio is below threshold for alarm to be triggered \n",
    "EYE_ASPECT_RATIO_CONSEC_FRAMES = 50 "
   ]
  },
  {
   "cell_type": "code",
   "execution_count": 23,
   "id": "77866720",
   "metadata": {},
   "outputs": [],
   "source": [
    "#Counts no. of consecutuve frames below threshold value \n",
    "COUNTER = 0"
   ]
  },
  {
   "cell_type": "code",
   "execution_count": 24,
   "id": "ab8719f8",
   "metadata": {},
   "outputs": [],
   "source": [
    "#Load face cascade which will be used to draw a rectangle around detected faces. \n",
    "face_cascade = cv2.CascadeClassifier(\"haarcascades/haarcascade_frontalface_default.xml\") "
   ]
  },
  {
   "cell_type": "code",
   "execution_count": 25,
   "id": "78bc8ba2",
   "metadata": {},
   "outputs": [],
   "source": [
    "#This function calculates and return eye aspect ratio \n",
    "def eye_aspect_ratio(eye): \n",
    "    A = distance.euclidean(eye[1], eye[5]) \n",
    "    B = distance.euclidean(eye[2], eye[4]) \n",
    "    C = distance.euclidean(eye[0], eye[3]) \n",
    "    ear = (A+B) / (2*C) \n",
    "    return ear"
   ]
  },
  {
   "cell_type": "code",
   "execution_count": 29,
   "id": "bef3c05a",
   "metadata": {},
   "outputs": [],
   "source": [
    "#Load face detector and predictor, uses dlib shape predictor file \n",
    "detector = dlib.get_frontal_face_detector() \n",
    "predictor = dlib.shape_predictor('shape_predictor_68_face_landmarks.dat/shape_predictor_68_face_landmarks.dat')"
   ]
  },
  {
   "cell_type": "code",
   "execution_count": 31,
   "id": "f4812cf1",
   "metadata": {},
   "outputs": [],
   "source": [
    "from imutils import face_utils"
   ]
  },
  {
   "cell_type": "code",
   "execution_count": 32,
   "id": "54d69c1b",
   "metadata": {},
   "outputs": [],
   "source": [
    "#Extract indexes of facial landmarks for the left and right eye \n",
    "(lStart, lEnd) = face_utils.FACIAL_LANDMARKS_IDXS['left_eye'] \n",
    "(rStart, rEnd) = face_utils.FACIAL_LANDMARKS_IDXS['right_eye'] "
   ]
  },
  {
   "cell_type": "code",
   "execution_count": 33,
   "id": "653be3d6",
   "metadata": {},
   "outputs": [],
   "source": [
    "#Start webcam video capture \n",
    "video_capture = cv2.VideoCapture(0)"
   ]
  },
  {
   "cell_type": "code",
   "execution_count": null,
   "id": "e53a1aff",
   "metadata": {},
   "outputs": [],
   "source": [
    "#Give some time for camera to initialize(not required) \n",
    "time.sleep(2) \n",
    "while(True): \n",
    "    #Read each frame and flip it, and convert to grayscale \n",
    "    ret, frame = video_capture.read() \n",
    "    frame = cv2.flip(frame,1) \n",
    "    gray = cv2.cvtColor(frame, cv2.COLOR_BGR2GRAY) "
   ]
  },
  {
   "cell_type": "code",
   "execution_count": null,
   "id": "bfdeead6",
   "metadata": {},
   "outputs": [],
   "source": [
    "#Detect facial points through detector function \n",
    "    faces = detector(gray, 0) \n",
    "#Detect faces through haarcascade_frontalface_default.xml \n",
    "    face_rectangle = face_cascade.detectMultiScale(gray, 1.3, 5) \n",
    "#Draw rectangle around each face detected \n",
    "    for (x,y,w,h) in face_rectangle: \n",
    "        cv2.rectangle(frame,(x,y),(x+w,y+h),(255,0,0),2) "
   ]
  },
  {
   "cell_type": "code",
   "execution_count": null,
   "id": "69195325",
   "metadata": {},
   "outputs": [],
   "source": [
    "#Detect facial points \n",
    "    for face in faces: \n",
    "        shape = predictor(gray, face) \n",
    "        shape = face_utils.shape_to_np(shape)"
   ]
  },
  {
   "cell_type": "code",
   "execution_count": null,
   "id": "68a9e62f",
   "metadata": {},
   "outputs": [],
   "source": [
    "#Get array of coordinates of leftEye and rightEye \n",
    "        leftEye = shape[lStart:lEnd] \n",
    "        rightEye = shape[rStart:rEnd]"
   ]
  },
  {
   "cell_type": "code",
   "execution_count": null,
   "id": "4a70f18b",
   "metadata": {},
   "outputs": [],
   "source": [
    "#Calculate aspect ratio of both eyes \n",
    "        leftEyeAspectRatio = eye_aspect_ratio(leftEye) \n",
    "        rightEyeAspectRatio = eye_aspect_ratio(rightEye) \n",
    "         eyeAspectRatio = (leftEyeAspectRatio + rightEyeAspectRatio) / 2 "
   ]
  },
  {
   "cell_type": "code",
   "execution_count": null,
   "id": "891504b1",
   "metadata": {},
   "outputs": [],
   "source": [
    " #Use hull to remove convex contour discrepencies and draw eye shape around eyes \n",
    "        leftEyeHull = cv2.convexHull(leftEye) \n",
    "        rightEyeHull = cv2.convexHull(rightEye) \n",
    "        cv2.drawContours(frame, [leftEyeHull], -1, (0, 255, 0), 1) \n",
    "        cv2.drawContours(frame, [rightEyeHull], -1, (0, 255, 0), 1)"
   ]
  },
  {
   "cell_type": "code",
   "execution_count": null,
   "id": "8b45278a",
   "metadata": {},
   "outputs": [],
   "source": [
    " #Detect if eye aspect ratio is less than threshold \n",
    "        if(eyeAspectRatio < EYE_ASPECT_RATIO_THRESHOLD): \n",
    "            COUNTER += 1 \n",
    "            #If no. of frames is greater than threshold frames, \n",
    "            if COUNTER >= EYE_ASPECT_RATIO_CONSEC_FRAMES: \n",
    "                pygame.mixer.music.play(-1) \n",
    "                led_on()\n",
    "                cv2.putText(frame, \"You are Drowsy\", (150,200), cv2.FONT_HERSHEY_SIMPLEX, 1.5, (0,0,255), 2) \n",
    "        else: \n",
    "            led_off()\n",
    "            pygame.mixer.music.stop() \n",
    "            COUNTER = 0 "
   ]
  },
  {
   "cell_type": "code",
   "execution_count": null,
   "id": "07ec19cc",
   "metadata": {},
   "outputs": [],
   "source": [
    " #Show video feed \n",
    "    cv2.imshow('Video', frame) \n",
    "    if(cv2.waitKey(1) & 0xFF == ord('q')): \n",
    "        break"
   ]
  },
  {
   "cell_type": "code",
   "execution_count": null,
   "id": "ae261369",
   "metadata": {},
   "outputs": [],
   "source": [
    "#Finally when video capture is over, release the video capture and destroyAllWindows \n",
    "video_capture.release() \n",
    "cv2.destroyAllWindows() "
   ]
  },
  {
   "cell_type": "code",
   "execution_count": null,
   "id": "a8ef02b0",
   "metadata": {},
   "outputs": [],
   "source": [
    "#Arduino Script using pyserial \n",
    "char serialData; \n",
    "int lightPin = 13; \n",
    "int soundPin = 10; \n",
    "void setup() { \n",
    "  // put your setup code here, to run once: \n",
    "  pinMode(lightPin,OUTPUT); \n",
    "  pinMode(soundPin,OUTPUT); \n",
    "  Serial.begin(9600); \n",
    "} \n",
    "void loop() { \n",
    "  // put your main code here, to run repeatedly: \n",
    "  if(Serial.available()>0){ \n",
    "    serialData = Serial.read(); \n",
    "  Serial.print(serialData); \n",
    "    if (serialData=='1'){ \n",
    "      digitalWrite(lightPin,HIGH); \n",
    "      digitalWrite(soundPin,HIGH); \n",
    "    } \n",
    "    else if(serialData == '0') \n",
    "      digitalWrite(lightPin,LOW); \n",
    "      digitalWrite(soundPin,HIGH); \n",
    "  } \n",
    "}"
   ]
  }
 ],
 "metadata": {
  "kernelspec": {
   "display_name": "Python 3 (ipykernel)",
   "language": "python",
   "name": "python3"
  },
  "language_info": {
   "codemirror_mode": {
    "name": "ipython",
    "version": 3
   },
   "file_extension": ".py",
   "mimetype": "text/x-python",
   "name": "python",
   "nbconvert_exporter": "python",
   "pygments_lexer": "ipython3",
   "version": "3.9.12"
  }
 },
 "nbformat": 4,
 "nbformat_minor": 5
}
